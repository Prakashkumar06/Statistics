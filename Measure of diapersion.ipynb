{
 "cells": [
  {
   "cell_type": "code",
   "execution_count": 1,
   "id": "404b882f-d390-4ad3-8cc2-7f4e53c95be3",
   "metadata": {},
   "outputs": [],
   "source": [
    "#measure of dispersion"
   ]
  },
  {
   "cell_type": "code",
   "execution_count": 2,
   "id": "75d42a15-8429-4ab3-8cd5-6a9f34f305df",
   "metadata": {},
   "outputs": [],
   "source": [
    "ages_list=[23,43,23,56,74,68,98,45,32]"
   ]
  },
  {
   "cell_type": "code",
   "execution_count": 4,
   "id": "d288d805-d601-4d3b-9cb9-90dd4ab27b39",
   "metadata": {},
   "outputs": [],
   "source": [
    "import numpy as np"
   ]
  },
  {
   "cell_type": "code",
   "execution_count": 5,
   "id": "cb6c4fb8-3620-47d4-807c-883be104596a",
   "metadata": {},
   "outputs": [
    {
     "data": {
      "text/plain": [
       "51.333333333333336"
      ]
     },
     "execution_count": 5,
     "metadata": {},
     "output_type": "execute_result"
    }
   ],
   "source": [
    "np.mean(ages_list)"
   ]
  },
  {
   "cell_type": "code",
   "execution_count": 9,
   "id": "024fafb9-7945-445e-9486-feef36d60957",
   "metadata": {},
   "outputs": [
    {
     "data": {
      "text/plain": [
       "564.4444444444446"
      ]
     },
     "execution_count": 9,
     "metadata": {},
     "output_type": "execute_result"
    }
   ],
   "source": [
    "#variance\n",
    "np.var(ages_list)"
   ]
  },
  {
   "cell_type": "code",
   "execution_count": 8,
   "id": "e7f41e12-bd34-4bb4-b1e3-a454b1a3e982",
   "metadata": {},
   "outputs": [
    {
     "data": {
      "text/plain": [
       "23.758039574940618"
      ]
     },
     "execution_count": 8,
     "metadata": {},
     "output_type": "execute_result"
    }
   ],
   "source": [
    "#std\n",
    "np.std(ages_list)"
   ]
  },
  {
   "cell_type": "code",
   "execution_count": 12,
   "id": "d5b549ff-ba17-49f6-98f9-b5caeb3dbac0",
   "metadata": {},
   "outputs": [
    {
     "data": {
      "text/plain": [
       "<AxesSubplot: ylabel='Count'>"
      ]
     },
     "execution_count": 12,
     "metadata": {},
     "output_type": "execute_result"
    },
    {
     "data": {
      "image/png": "[encoded data removed]",
      "text/plain": [
       "<Figure size 640x480 with 1 Axes>"
      ]
     },
     "metadata": {},
     "output_type": "display_data"
    }
   ],
   "source": [
    "import seaborn as sns\n",
    "sns.histplot(ages_list,kde=True)"
   ]
  },
  {
   "cell_type": "code",
   "execution_count": 13,
   "id": "07578234-db88-48a7-b6ae-09bc84eb0fe9",
   "metadata": {},
   "outputs": [],
   "source": [
    "import pandas as pd"
   ]
  },
  {
   "cell_type": "code",
   "execution_count": 17,
   "id": "0ef336fd-ad96-467d-9e1d-ac87a13d8ae2",
   "metadata": {},
   "outputs": [],
   "source": [
    "data = [[1,2,13],[34,23,45],[32,34,21]]"
   ]
  },
  {
   "cell_type": "code",
   "execution_count": 18,
   "id": "277017ef-ad0c-4ce0-ad30-f22e0241d6b4",
   "metadata": {},
   "outputs": [
    {
     "data": {
      "text/plain": [
       "[[1, 2, 13], [34, 23, 45], [32, 34, 21]]"
      ]
     },
     "execution_count": 18,
     "metadata": {},
     "output_type": "execute_result"
    }
   ],
   "source": [
    "data"
   ]
  },
  {
   "cell_type": "code",
   "execution_count": 19,
   "id": "1a27fc82-ef51-406b-b03c-79e96f4d4e03",
   "metadata": {},
   "outputs": [],
   "source": [
    "df = pd.DataFrame(data,columns=[\"A\",\"B\",\"C\"])"
   ]
  },
  {
   "cell_type": "code",
   "execution_count": 21,
   "id": "107ffbe4-e279-4af6-aa99-331b3b16a575",
   "metadata": {},
   "outputs": [
    {
     "data": {
      "text/html": [
       "<div>\n",
       "<style scoped>\n",
       "    .dataframe tbody tr th:only-of-type {\n",
       "        vertical-align: middle;\n",
       "    }\n",
       "\n",
       "    .dataframe tbody tr th {\n",
       "        vertical-align: top;\n",
       "    }\n",
       "\n",
       "    .dataframe thead th {\n",
       "        text-align: right;\n",
       "    }\n",
       "</style>\n",
       "<table border=\"1\" class=\"dataframe\">\n",
       "  <thead>\n",
       "    <tr style=\"text-align: right;\">\n",
       "      <th></th>\n",
       "      <th>A</th>\n",
       "      <th>B</th>\n",
       "      <th>C</th>\n",
       "    </tr>\n",
       "  </thead>\n",
       "  <tbody>\n",
       "    <tr>\n",
       "      <th>0</th>\n",
       "      <td>1</td>\n",
       "      <td>2</td>\n",
       "      <td>13</td>\n",
       "    </tr>\n",
       "    <tr>\n",
       "      <th>1</th>\n",
       "      <td>34</td>\n",
       "      <td>23</td>\n",
       "      <td>45</td>\n",
       "    </tr>\n",
       "    <tr>\n",
       "      <th>2</th>\n",
       "      <td>32</td>\n",
       "      <td>34</td>\n",
       "      <td>21</td>\n",
       "    </tr>\n",
       "  </tbody>\n",
       "</table>\n",
       "</div>"
      ],
      "text/plain": [
       "    A   B   C\n",
       "0   1   2  13\n",
       "1  34  23  45\n",
       "2  32  34  21"
      ]
     },
     "execution_count": 21,
     "metadata": {},
     "output_type": "execute_result"
    }
   ],
   "source": [
    "df.head()"
   ]
  },
  {
   "cell_type": "code",
   "execution_count": 23,
   "id": "d349259a-f02c-4937-a9eb-a14ff5a72c48",
   "metadata": {},
   "outputs": [
    {
     "data": {
      "text/plain": [
       "A    342.333333\n",
       "B    264.333333\n",
       "C    277.333333\n",
       "dtype: float64"
      ]
     },
     "execution_count": 23,
     "metadata": {},
     "output_type": "execute_result"
    }
   ],
   "source": [
    "df.var()"
   ]
  },
  {
   "cell_type": "code",
   "execution_count": 24,
   "id": "7cc2d48c-6e68-40d8-83c0-c6ed5c5b0689",
   "metadata": {},
   "outputs": [
    {
     "data": {
      "text/plain": [
       "0     44.333333\n",
       "1    121.000000\n",
       "2     49.000000\n",
       "dtype: float64"
      ]
     },
     "execution_count": 24,
     "metadata": {},
     "output_type": "execute_result"
    }
   ],
   "source": [
    "df.var(axis = 1)"
   ]
  },
  {
   "cell_type": "code",
   "execution_count": 25,
   "id": "4fbde0a2-aefb-4d04-b444-a82b754e7134",
   "metadata": {},
   "outputs": [
    {
     "data": {
      "text/plain": [
       "A    342.333333\n",
       "B    264.333333\n",
       "C    277.333333\n",
       "dtype: float64"
      ]
     },
     "execution_count": 25,
     "metadata": {},
     "output_type": "execute_result"
    }
   ],
   "source": [
    "df.var(axis = 0)"
   ]
  },
  {
   "cell_type": "code",
   "execution_count": null,
   "id": "3f59ddb9-eadf-48db-85eb-eea389f24dc7",
   "metadata": {},
   "outputs": [],
   "source": []
  }
 ],
 "metadata": {
  "kernelspec": {
   "display_name": "Python 3 (ipykernel)",
   "language": "python",
   "name": "python3"
  },
  "language_info": {
   "codemirror_mode": {
    "name": "ipython",
    "version": 3
   },
   "file_extension": ".py",
   "mimetype": "text/x-python",
   "name": "python",
   "nbconvert_exporter": "python",
   "pygments_lexer": "ipython3",
   "version": "3.10.8"
  }
 },
 "nbformat": 4,
 "nbformat_minor": 5
}
