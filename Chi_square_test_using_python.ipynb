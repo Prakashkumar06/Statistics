{
 "cells": [
  {
   "cell_type": "code",
   "execution_count": 2,
   "id": "d44423f6-58e8-4443-b98b-e604cf08d9bd",
   "metadata": {},
   "outputs": [],
   "source": [
    "import scipy.stats as stat"
   ]
  },
  {
   "cell_type": "code",
   "execution_count": 3,
   "id": "5637d680-0ad3-4730-a8bb-014424dea3e0",
   "metadata": {},
   "outputs": [],
   "source": [
    "import numpy as np"
   ]
  },
  {
   "cell_type": "code",
   "execution_count": 15,
   "id": "5ca81bb3-3021-44b9-b318-d406100287d9",
   "metadata": {},
   "outputs": [],
   "source": [
    "##NUMBER OF HOURS STUDENT STUDY IN A WEEKLY BASIS DALIY\n",
    "##monday,tuesday,wednesday,thursday,friday,saturday,sunday\n",
    "expected_data = [8,6,7,9,6,9,8]\n",
    "observed_data = [7,8,6,8,9,8,7]"
   ]
  },
  {
   "cell_type": "code",
   "execution_count": 7,
   "id": "24a2eb03-b26a-4327-a4a0-94c7a6381510",
   "metadata": {},
   "outputs": [
    {
     "data": {
      "text/plain": [
       "(53, 53)"
      ]
     },
     "execution_count": 7,
     "metadata": {},
     "output_type": "execute_result"
    }
   ],
   "source": [
    "sum(expected_data),sum(observed_data)"
   ]
  },
  {
   "cell_type": "code",
   "execution_count": 8,
   "id": "75539fe5-b79e-46ec-b8af-91ad65268be0",
   "metadata": {},
   "outputs": [],
   "source": [
    "##chi square Goodness of Fit test\n",
    "chisquare_test_ststisticsl,p_value=stat.chisquare(observed_data,expected_data)"
   ]
  },
  {
   "cell_type": "code",
   "execution_count": 9,
   "id": "2ab3c54b-5a1f-4146-a2b7-6d6e40a875d0",
   "metadata": {},
   "outputs": [
    {
     "data": {
      "text/plain": [
       "(2.781746031746032, 0.8356990715122)"
      ]
     },
     "execution_count": 9,
     "metadata": {},
     "output_type": "execute_result"
    }
   ],
   "source": [
    "chisquare_test_ststisticsl,p_value"
   ]
  },
  {
   "cell_type": "code",
   "execution_count": 12,
   "id": "83d1e744-2c38-43f3-b086-40e31d37d1c4",
   "metadata": {},
   "outputs": [
    {
     "name": "stdout",
     "output_type": "stream",
     "text": [
      "6\n"
     ]
    }
   ],
   "source": [
    "##find the critical value\n",
    "significance_value=0.05\n",
    "dof = len(expected_data)-1\n",
    "print(dof)\n",
    "critical_value =stat.chi2.ppf(1-significance_value,dof)"
   ]
  },
  {
   "cell_type": "code",
   "execution_count": 13,
   "id": "d2328ca6-d4e2-48f6-a70a-9c59daaa962c",
   "metadata": {},
   "outputs": [
    {
     "data": {
      "text/plain": [
       "12.591587243743977"
      ]
     },
     "execution_count": 13,
     "metadata": {},
     "output_type": "execute_result"
    }
   ],
   "source": [
    "critical_value"
   ]
  },
  {
   "cell_type": "code",
   "execution_count": 14,
   "id": "152cb402-98e2-48ef-8f70-0aa08be097f4",
   "metadata": {},
   "outputs": [
    {
     "name": "stdout",
     "output_type": "stream",
     "text": [
      "Accept the null hypothesis\n"
     ]
    }
   ],
   "source": [
    "if chisquare_test_ststisticsl > critical_value:\n",
    "    print(\"Reject the null hypothtsis\")\n",
    "else:\n",
    "    print(\"Accept the null hypothesis\")"
   ]
  },
  {
   "cell_type": "code",
   "execution_count": null,
   "id": "bb8330cc-23e9-4868-ba77-e12f151a839e",
   "metadata": {},
   "outputs": [],
   "source": []
  }
 ],
 "metadata": {
  "kernelspec": {
   "display_name": "Python 3 (ipykernel)",
   "language": "python",
   "name": "python3"
  },
  "language_info": {
   "codemirror_mode": {
    "name": "ipython",
    "version": 3
   },
   "file_extension": ".py",
   "mimetype": "text/x-python",
   "name": "python",
   "nbconvert_exporter": "python",
   "pygments_lexer": "ipython3",
   "version": "3.10.8"
  }
 },
 "nbformat": 4,
 "nbformat_minor": 5
}
