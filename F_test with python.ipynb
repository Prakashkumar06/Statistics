{
 "cells": [
  {
   "cell_type": "code",
   "execution_count": 2,
   "id": "ea075d24-57dd-4a0b-b584-11595d438cb2",
   "metadata": {},
   "outputs": [],
   "source": [
    "#Evidence to say that the two population varience arw not equal.\n",
    "\n",
    "worker1 = [18,19,22,25,27,28,41,45,51,55]\n",
    "worker2 = [14,15,15,17,28,22,25,25,27,34]"
   ]
  },
  {
   "cell_type": "code",
   "execution_count": 4,
   "id": "3ffce44c-f8ff-4bfa-8b75-01bcae6ef646",
   "metadata": {},
   "outputs": [],
   "source": [
    "##calculating f-test\n",
    "import numpy as np\n",
    "f_test = np.var(worker1)/np.var(worker2)"
   ]
  },
  {
   "cell_type": "code",
   "execution_count": 5,
   "id": "b7610688-7030-4913-bd46-d86ae42465a9",
   "metadata": {},
   "outputs": [
    {
     "data": {
      "text/plain": [
       "4.108642578125"
      ]
     },
     "execution_count": 5,
     "metadata": {},
     "output_type": "execute_result"
    }
   ],
   "source": [
    "f_test"
   ]
  },
  {
   "cell_type": "code",
   "execution_count": 8,
   "id": "00ed0374-48ad-466c-ba3a-e81e17097d32",
   "metadata": {},
   "outputs": [],
   "source": [
    "#degree of freedom\n",
    "df1= len(worker1)-1\n",
    "df2= len(worker2)-1\n",
    "signifance_value = 0.05"
   ]
  },
  {
   "cell_type": "code",
   "execution_count": 7,
   "id": "5b42fdd0-3ecf-47e6-a394-a82656295ace",
   "metadata": {},
   "outputs": [],
   "source": [
    "import scipy.stats as stat\n"
   ]
  },
  {
   "cell_type": "code",
   "execution_count": 10,
   "id": "3c74fdac-2c67-4616-880f-0ad41ea82ffe",
   "metadata": {},
   "outputs": [],
   "source": [
    "critical_value = stat.f.ppf(q=1-signifance_value,dfn=df1,dfd=df2)"
   ]
  },
  {
   "cell_type": "code",
   "execution_count": 11,
   "id": "9548adb8-adc1-498a-b4eb-10f73d997552",
   "metadata": {},
   "outputs": [
    {
     "data": {
      "text/plain": [
       "3.178893104458269"
      ]
     },
     "execution_count": 11,
     "metadata": {},
     "output_type": "execute_result"
    }
   ],
   "source": [
    "critical_value"
   ]
  },
  {
   "cell_type": "code",
   "execution_count": 13,
   "id": "baa502ba-a982-4f4c-9ef0-8cda3b0dc54f",
   "metadata": {},
   "outputs": [
    {
     "name": "stdout",
     "output_type": "stream",
     "text": [
      "reject the null hypothesis\n"
     ]
    }
   ],
   "source": [
    "if f_test > critical_value:\n",
    "    print(\"reject the null hypothesis\")\n",
    "else:\n",
    "    print(\"we fail to reject null hypothesis\")"
   ]
  },
  {
   "cell_type": "code",
   "execution_count": null,
   "id": "06dbf237-ae81-4954-ad8b-a8f983edd656",
   "metadata": {},
   "outputs": [],
   "source": []
  }
 ],
 "metadata": {
  "kernelspec": {
   "display_name": "Python 3 (ipykernel)",
   "language": "python",
   "name": "python3"
  },
  "language_info": {
   "codemirror_mode": {
    "name": "ipython",
    "version": 3
   },
   "file_extension": ".py",
   "mimetype": "text/x-python",
   "name": "python",
   "nbconvert_exporter": "python",
   "pygments_lexer": "ipython3",
   "version": "3.10.8"
  }
 },
 "nbformat": 4,
 "nbformat_minor": 5
}
